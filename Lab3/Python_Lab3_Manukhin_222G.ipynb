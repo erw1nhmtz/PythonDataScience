{
 "cells": [
  {
   "cell_type": "code",
   "execution_count": null,
   "id": "fe8172ea",
   "metadata": {},
   "outputs": [],
   "source": [
    "#Task 1"
   ]
  },
  {
   "cell_type": "code",
   "execution_count": 5,
   "id": "52d0cf84",
   "metadata": {},
   "outputs": [
    {
     "data": {
      "text/html": [
       "<div>\n",
       "<style scoped>\n",
       "    .dataframe tbody tr th:only-of-type {\n",
       "        vertical-align: middle;\n",
       "    }\n",
       "\n",
       "    .dataframe tbody tr th {\n",
       "        vertical-align: top;\n",
       "    }\n",
       "\n",
       "    .dataframe thead th {\n",
       "        text-align: right;\n",
       "    }\n",
       "</style>\n",
       "<table border=\"1\" class=\"dataframe\">\n",
       "  <thead>\n",
       "    <tr style=\"text-align: right;\">\n",
       "      <th></th>\n",
       "      <th>Country</th>\n",
       "      <th>Energy Supply</th>\n",
       "      <th>Energy Supply per Capita</th>\n",
       "      <th>% Renewable</th>\n",
       "    </tr>\n",
       "  </thead>\n",
       "  <tbody>\n",
       "    <tr>\n",
       "      <th>0</th>\n",
       "      <td>Afghanistan</td>\n",
       "      <td>321</td>\n",
       "      <td>10</td>\n",
       "      <td>78.669280</td>\n",
       "    </tr>\n",
       "    <tr>\n",
       "      <th>1</th>\n",
       "      <td>Albania</td>\n",
       "      <td>102</td>\n",
       "      <td>35</td>\n",
       "      <td>100.000000</td>\n",
       "    </tr>\n",
       "    <tr>\n",
       "      <th>2</th>\n",
       "      <td>Algeria</td>\n",
       "      <td>1959</td>\n",
       "      <td>51</td>\n",
       "      <td>0.551010</td>\n",
       "    </tr>\n",
       "    <tr>\n",
       "      <th>3</th>\n",
       "      <td>American Samoa</td>\n",
       "      <td>...</td>\n",
       "      <td>...</td>\n",
       "      <td>0.641026</td>\n",
       "    </tr>\n",
       "    <tr>\n",
       "      <th>4</th>\n",
       "      <td>Andorra</td>\n",
       "      <td>9</td>\n",
       "      <td>121</td>\n",
       "      <td>88.695650</td>\n",
       "    </tr>\n",
       "  </tbody>\n",
       "</table>\n",
       "</div>"
      ],
      "text/plain": [
       "          Country Energy Supply Energy Supply per Capita  % Renewable\n",
       "0     Afghanistan           321                       10    78.669280\n",
       "1         Albania           102                       35   100.000000\n",
       "2         Algeria          1959                       51     0.551010\n",
       "3  American Samoa           ...                      ...     0.641026\n",
       "4         Andorra             9                      121    88.695650"
      ]
     },
     "execution_count": 5,
     "metadata": {},
     "output_type": "execute_result"
    }
   ],
   "source": [
    "import pandas as pd\n",
    "import numpy as np\n",
    "\n",
    "df = pd.read_excel('En_In.xls', \n",
    "                       skiprows=17, \n",
    "                       usecols=\"C:F\",\n",
    "                       names=['Country', 'Energy Supply', 'Energy Supply per Capita', '% Renewable'])\n",
    "\n",
    "df.head()"
   ]
  },
  {
   "cell_type": "code",
   "execution_count": null,
   "id": "d7c1f4c2",
   "metadata": {},
   "outputs": [],
   "source": [
    "#Task2"
   ]
  },
  {
   "cell_type": "code",
   "execution_count": 6,
   "id": "36b55784",
   "metadata": {},
   "outputs": [
    {
     "data": {
      "text/html": [
       "<div>\n",
       "<style scoped>\n",
       "    .dataframe tbody tr th:only-of-type {\n",
       "        vertical-align: middle;\n",
       "    }\n",
       "\n",
       "    .dataframe tbody tr th {\n",
       "        vertical-align: top;\n",
       "    }\n",
       "\n",
       "    .dataframe thead th {\n",
       "        text-align: right;\n",
       "    }\n",
       "</style>\n",
       "<table border=\"1\" class=\"dataframe\">\n",
       "  <thead>\n",
       "    <tr style=\"text-align: right;\">\n",
       "      <th></th>\n",
       "      <th>Country</th>\n",
       "      <th>Energy Supply</th>\n",
       "      <th>Energy Supply per Capita</th>\n",
       "      <th>% Renewable</th>\n",
       "    </tr>\n",
       "  </thead>\n",
       "  <tbody>\n",
       "    <tr>\n",
       "      <th>0</th>\n",
       "      <td>Afghanistan</td>\n",
       "      <td>3.210000e+08</td>\n",
       "      <td>10.0</td>\n",
       "      <td>78.669280</td>\n",
       "    </tr>\n",
       "    <tr>\n",
       "      <th>1</th>\n",
       "      <td>Albania</td>\n",
       "      <td>1.020000e+08</td>\n",
       "      <td>35.0</td>\n",
       "      <td>100.000000</td>\n",
       "    </tr>\n",
       "    <tr>\n",
       "      <th>2</th>\n",
       "      <td>Algeria</td>\n",
       "      <td>1.959000e+09</td>\n",
       "      <td>51.0</td>\n",
       "      <td>0.551010</td>\n",
       "    </tr>\n",
       "    <tr>\n",
       "      <th>3</th>\n",
       "      <td>American Samoa</td>\n",
       "      <td>NaN</td>\n",
       "      <td>NaN</td>\n",
       "      <td>0.641026</td>\n",
       "    </tr>\n",
       "    <tr>\n",
       "      <th>4</th>\n",
       "      <td>Andorra</td>\n",
       "      <td>9.000000e+06</td>\n",
       "      <td>121.0</td>\n",
       "      <td>88.695650</td>\n",
       "    </tr>\n",
       "  </tbody>\n",
       "</table>\n",
       "</div>"
      ],
      "text/plain": [
       "          Country  Energy Supply  Energy Supply per Capita  % Renewable\n",
       "0     Afghanistan   3.210000e+08                      10.0    78.669280\n",
       "1         Albania   1.020000e+08                      35.0   100.000000\n",
       "2         Algeria   1.959000e+09                      51.0     0.551010\n",
       "3  American Samoa            NaN                       NaN     0.641026\n",
       "4         Andorra   9.000000e+06                     121.0    88.695650"
      ]
     },
     "execution_count": 6,
     "metadata": {},
     "output_type": "execute_result"
    }
   ],
   "source": [
    "import numpy as np\n",
    "import pandas as pd\n",
    "\n",
    "df = pd.read_excel('En_In.xls', \n",
    "                       skiprows=17, \n",
    "                       usecols=\"C:F\",\n",
    "                       names=['Country', 'Energy Supply', 'Energy Supply per Capita', '% Renewable'])\n",
    "\n",
    "df['Energy Supply'] = pd.to_numeric(df['Energy Supply'], errors='coerce') * 1_000_000\n",
    "\n",
    "df.replace(\"...\", np.NaN, inplace=True)\n",
    "\n",
    "df.replace([np.inf, -np.inf], np.nan, inplace=True)\n",
    "\n",
    "df.head()"
   ]
  },
  {
   "cell_type": "code",
   "execution_count": 143,
   "id": "b6dd80c1",
   "metadata": {},
   "outputs": [],
   "source": [
    "#Task3"
   ]
  },
  {
   "cell_type": "code",
   "execution_count": 7,
   "id": "e209dfdb",
   "metadata": {},
   "outputs": [],
   "source": [
    "import pandas as pd\n",
    "\n",
    "df['Country'] = df['Country'].replace({\n",
    "    \"Republic of Korea\": \"South Korea\",\n",
    "    \"United States of America\": \"United States\",\n",
    "    \"United Kingdom of Great Britain and Northern Ireland\": \"United Kingdom\",\n",
    "    \"China, Hong Kong Special Administrative Region\": \"Hong Kong\"\n",
    "})"
   ]
  },
  {
   "cell_type": "code",
   "execution_count": 8,
   "id": "b974b254",
   "metadata": {},
   "outputs": [],
   "source": [
    "#Task 4"
   ]
  },
  {
   "cell_type": "code",
   "execution_count": 9,
   "id": "50a3c864",
   "metadata": {},
   "outputs": [],
   "source": [
    "df['Country'] = df['Country'].str.replace(r\"\\(.*\\)\", \"\", regex=True).str.replace(r\"\\d+\", \"\", regex=True).str.strip()\n",
    "\n",
    "df['% Renewable'] = df['% Renewable'].round(3)"
   ]
  },
  {
   "cell_type": "code",
   "execution_count": 10,
   "id": "fba671b8",
   "metadata": {},
   "outputs": [
    {
     "data": {
      "text/html": [
       "<div>\n",
       "<style scoped>\n",
       "    .dataframe tbody tr th:only-of-type {\n",
       "        vertical-align: middle;\n",
       "    }\n",
       "\n",
       "    .dataframe tbody tr th {\n",
       "        vertical-align: top;\n",
       "    }\n",
       "\n",
       "    .dataframe thead th {\n",
       "        text-align: right;\n",
       "    }\n",
       "</style>\n",
       "<table border=\"1\" class=\"dataframe\">\n",
       "  <thead>\n",
       "    <tr style=\"text-align: right;\">\n",
       "      <th></th>\n",
       "      <th>Country</th>\n",
       "      <th>Energy Supply</th>\n",
       "      <th>Energy Supply per Capita</th>\n",
       "      <th>% Renewable</th>\n",
       "    </tr>\n",
       "  </thead>\n",
       "  <tbody>\n",
       "    <tr>\n",
       "      <th>3</th>\n",
       "      <td>American Samoa</td>\n",
       "      <td>NaN</td>\n",
       "      <td>NaN</td>\n",
       "      <td>0.641</td>\n",
       "    </tr>\n",
       "    <tr>\n",
       "      <th>24</th>\n",
       "      <td>Bolivia</td>\n",
       "      <td>3.360000e+08</td>\n",
       "      <td>32.0</td>\n",
       "      <td>31.477</td>\n",
       "    </tr>\n",
       "    <tr>\n",
       "      <th>164</th>\n",
       "      <td>South Korea</td>\n",
       "      <td>1.100700e+10</td>\n",
       "      <td>221.0</td>\n",
       "      <td>2.279</td>\n",
       "    </tr>\n",
       "  </tbody>\n",
       "</table>\n",
       "</div>"
      ],
      "text/plain": [
       "            Country  Energy Supply  Energy Supply per Capita  % Renewable\n",
       "3    American Samoa            NaN                       NaN        0.641\n",
       "24          Bolivia   3.360000e+08                      32.0       31.477\n",
       "164     South Korea   1.100700e+10                     221.0        2.279"
      ]
     },
     "execution_count": 10,
     "metadata": {},
     "output_type": "execute_result"
    }
   ],
   "source": [
    "df.loc[df['Country'].isin(['American Samoa', 'South Korea', 'Bolivia' ])]"
   ]
  },
  {
   "cell_type": "code",
   "execution_count": null,
   "id": "1ff27da0",
   "metadata": {},
   "outputs": [],
   "source": [
    "#Task 5"
   ]
  },
  {
   "cell_type": "code",
   "execution_count": 11,
   "id": "2c45710d",
   "metadata": {},
   "outputs": [
    {
     "data": {
      "text/html": [
       "<div>\n",
       "<style scoped>\n",
       "    .dataframe tbody tr th:only-of-type {\n",
       "        vertical-align: middle;\n",
       "    }\n",
       "\n",
       "    .dataframe tbody tr th {\n",
       "        vertical-align: top;\n",
       "    }\n",
       "\n",
       "    .dataframe thead th {\n",
       "        text-align: right;\n",
       "    }\n",
       "</style>\n",
       "<table border=\"1\" class=\"dataframe\">\n",
       "  <thead>\n",
       "    <tr style=\"text-align: right;\">\n",
       "      <th></th>\n",
       "      <th>Country Name</th>\n",
       "      <th>Country Code</th>\n",
       "      <th>Indicator Name</th>\n",
       "      <th>Indicator Code</th>\n",
       "      <th>1960</th>\n",
       "      <th>1961</th>\n",
       "      <th>1962</th>\n",
       "      <th>...</th>\n",
       "      <th>2009</th>\n",
       "      <th>2010</th>\n",
       "      <th>2011</th>\n",
       "      <th>2012</th>\n",
       "      <th>2013</th>\n",
       "      <th>2014</th>\n",
       "      <th>2015</th>\n",
       "    </tr>\n",
       "  </thead>\n",
       "  <tbody>\n",
       "    <tr>\n",
       "      <th>0</th>\n",
       "      <td>Aruba</td>\n",
       "      <td>ABW</td>\n",
       "      <td>GDP at market prices (constant 2010 US$)</td>\n",
       "      <td>NY.GDP.MKTP.KD</td>\n",
       "      <td>NaN</td>\n",
       "      <td>NaN</td>\n",
       "      <td>NaN</td>\n",
       "      <td>...</td>\n",
       "      <td>NaN</td>\n",
       "      <td>2.467704e+09</td>\n",
       "      <td>NaN</td>\n",
       "      <td>NaN</td>\n",
       "      <td>NaN</td>\n",
       "      <td>NaN</td>\n",
       "      <td>NaN</td>\n",
       "    </tr>\n",
       "    <tr>\n",
       "      <th>1</th>\n",
       "      <td>Andorra</td>\n",
       "      <td>AND</td>\n",
       "      <td>GDP at market prices (constant 2010 US$)</td>\n",
       "      <td>NY.GDP.MKTP.KD</td>\n",
       "      <td>NaN</td>\n",
       "      <td>NaN</td>\n",
       "      <td>NaN</td>\n",
       "      <td>...</td>\n",
       "      <td>3.535389e+09</td>\n",
       "      <td>3.346317e+09</td>\n",
       "      <td>3.185605e+09</td>\n",
       "      <td>3.129538e+09</td>\n",
       "      <td>3.127550e+09</td>\n",
       "      <td>NaN</td>\n",
       "      <td>NaN</td>\n",
       "    </tr>\n",
       "    <tr>\n",
       "      <th>2</th>\n",
       "      <td>Afghanistan</td>\n",
       "      <td>AFG</td>\n",
       "      <td>GDP at market prices (constant 2010 US$)</td>\n",
       "      <td>NY.GDP.MKTP.KD</td>\n",
       "      <td>NaN</td>\n",
       "      <td>NaN</td>\n",
       "      <td>NaN</td>\n",
       "      <td>...</td>\n",
       "      <td>1.469733e+10</td>\n",
       "      <td>1.593680e+10</td>\n",
       "      <td>1.691113e+10</td>\n",
       "      <td>1.935220e+10</td>\n",
       "      <td>1.973134e+10</td>\n",
       "      <td>1.999032e+10</td>\n",
       "      <td>2.029415e+10</td>\n",
       "    </tr>\n",
       "  </tbody>\n",
       "</table>\n",
       "<p>3 rows × 60 columns</p>\n",
       "</div>"
      ],
      "text/plain": [
       "  Country Name Country Code                            Indicator Name  \\\n",
       "0        Aruba          ABW  GDP at market prices (constant 2010 US$)   \n",
       "1      Andorra          AND  GDP at market prices (constant 2010 US$)   \n",
       "2  Afghanistan          AFG  GDP at market prices (constant 2010 US$)   \n",
       "\n",
       "   Indicator Code  1960  1961  1962  ...          2009          2010  \\\n",
       "0  NY.GDP.MKTP.KD   NaN   NaN   NaN  ...           NaN  2.467704e+09   \n",
       "1  NY.GDP.MKTP.KD   NaN   NaN   NaN  ...  3.535389e+09  3.346317e+09   \n",
       "2  NY.GDP.MKTP.KD   NaN   NaN   NaN  ...  1.469733e+10  1.593680e+10   \n",
       "\n",
       "           2011          2012          2013          2014          2015  \n",
       "0           NaN           NaN           NaN           NaN           NaN  \n",
       "1  3.185605e+09  3.129538e+09  3.127550e+09           NaN           NaN  \n",
       "2  1.691113e+10  1.935220e+10  1.973134e+10  1.999032e+10  2.029415e+10  \n",
       "\n",
       "[3 rows x 60 columns]"
      ]
     },
     "execution_count": 11,
     "metadata": {},
     "output_type": "execute_result"
    }
   ],
   "source": [
    "GDP = pd.read_csv('gpd.csv', skiprows=4)\n",
    "\n",
    "GDP['Country Name'] = GDP['Country Name'].replace({\n",
    "    \"Korea, Rep.\": \"South Korea\",\n",
    "    \"Iran, Islamic Rep.\": \"Iran\",\n",
    "    \"Hong Kong SAR, China\": \"Hong Kong\"\n",
    "})\n",
    "pd.set_option('display.max_columns', 15)\n",
    "\n",
    "GDP.head(3)"
   ]
  },
  {
   "cell_type": "code",
   "execution_count": null,
   "id": "1906497c",
   "metadata": {},
   "outputs": [],
   "source": [
    "#Task 6"
   ]
  },
  {
   "cell_type": "code",
   "execution_count": 12,
   "id": "8545e929",
   "metadata": {},
   "outputs": [
    {
     "data": {
      "text/html": [
       "<div>\n",
       "<style scoped>\n",
       "    .dataframe tbody tr th:only-of-type {\n",
       "        vertical-align: middle;\n",
       "    }\n",
       "\n",
       "    .dataframe tbody tr th {\n",
       "        vertical-align: top;\n",
       "    }\n",
       "\n",
       "    .dataframe thead th {\n",
       "        text-align: right;\n",
       "    }\n",
       "</style>\n",
       "<table border=\"1\" class=\"dataframe\">\n",
       "  <thead>\n",
       "    <tr style=\"text-align: right;\">\n",
       "      <th></th>\n",
       "      <th>Rank</th>\n",
       "      <th>Country</th>\n",
       "      <th>Documents</th>\n",
       "      <th>Citable documents</th>\n",
       "      <th>Citations</th>\n",
       "      <th>Self-citations</th>\n",
       "      <th>Citations per document</th>\n",
       "      <th>H index</th>\n",
       "    </tr>\n",
       "  </thead>\n",
       "  <tbody>\n",
       "    <tr>\n",
       "      <th>0</th>\n",
       "      <td>1</td>\n",
       "      <td>China</td>\n",
       "      <td>127050</td>\n",
       "      <td>126767</td>\n",
       "      <td>597237</td>\n",
       "      <td>411683</td>\n",
       "      <td>4.70</td>\n",
       "      <td>138</td>\n",
       "    </tr>\n",
       "    <tr>\n",
       "      <th>1</th>\n",
       "      <td>2</td>\n",
       "      <td>United States</td>\n",
       "      <td>96661</td>\n",
       "      <td>94747</td>\n",
       "      <td>792274</td>\n",
       "      <td>265436</td>\n",
       "      <td>8.20</td>\n",
       "      <td>230</td>\n",
       "    </tr>\n",
       "    <tr>\n",
       "      <th>2</th>\n",
       "      <td>3</td>\n",
       "      <td>Japan</td>\n",
       "      <td>30504</td>\n",
       "      <td>30287</td>\n",
       "      <td>223024</td>\n",
       "      <td>61554</td>\n",
       "      <td>7.31</td>\n",
       "      <td>134</td>\n",
       "    </tr>\n",
       "    <tr>\n",
       "      <th>3</th>\n",
       "      <td>4</td>\n",
       "      <td>United Kingdom</td>\n",
       "      <td>20944</td>\n",
       "      <td>20357</td>\n",
       "      <td>206091</td>\n",
       "      <td>37874</td>\n",
       "      <td>9.84</td>\n",
       "      <td>139</td>\n",
       "    </tr>\n",
       "    <tr>\n",
       "      <th>4</th>\n",
       "      <td>5</td>\n",
       "      <td>Russian Federation</td>\n",
       "      <td>18534</td>\n",
       "      <td>18301</td>\n",
       "      <td>34266</td>\n",
       "      <td>12422</td>\n",
       "      <td>1.85</td>\n",
       "      <td>57</td>\n",
       "    </tr>\n",
       "  </tbody>\n",
       "</table>\n",
       "</div>"
      ],
      "text/plain": [
       "   Rank             Country  Documents  Citable documents  Citations  \\\n",
       "0     1               China     127050             126767     597237   \n",
       "1     2       United States      96661              94747     792274   \n",
       "2     3               Japan      30504              30287     223024   \n",
       "3     4      United Kingdom      20944              20357     206091   \n",
       "4     5  Russian Federation      18534              18301      34266   \n",
       "\n",
       "   Self-citations  Citations per document  H index  \n",
       "0          411683                    4.70      138  \n",
       "1          265436                    8.20      230  \n",
       "2           61554                    7.31      134  \n",
       "3           37874                    9.84      139  \n",
       "4           12422                    1.85       57  "
      ]
     },
     "execution_count": 12,
     "metadata": {},
     "output_type": "execute_result"
    }
   ],
   "source": [
    "scimagojr_data = pd.read_excel('scimagojr.xlsx')\n",
    "\n",
    "scimagojr_data.head()"
   ]
  },
  {
   "cell_type": "code",
   "execution_count": 35,
   "id": "5f9a75ec",
   "metadata": {},
   "outputs": [],
   "source": [
    "#Task 7"
   ]
  },
  {
   "cell_type": "code",
   "execution_count": 13,
   "id": "fe66ea25",
   "metadata": {},
   "outputs": [
    {
     "data": {
      "text/html": [
       "<div>\n",
       "<style scoped>\n",
       "    .dataframe tbody tr th:only-of-type {\n",
       "        vertical-align: middle;\n",
       "    }\n",
       "\n",
       "    .dataframe tbody tr th {\n",
       "        vertical-align: top;\n",
       "    }\n",
       "\n",
       "    .dataframe thead th {\n",
       "        text-align: right;\n",
       "    }\n",
       "</style>\n",
       "<table border=\"1\" class=\"dataframe\">\n",
       "  <thead>\n",
       "    <tr style=\"text-align: right;\">\n",
       "      <th></th>\n",
       "      <th>Rank</th>\n",
       "      <th>Documents</th>\n",
       "      <th>Citable documents</th>\n",
       "      <th>Citations</th>\n",
       "      <th>Self-citations</th>\n",
       "      <th>Citations per document</th>\n",
       "      <th>H index</th>\n",
       "      <th>...</th>\n",
       "      <th>2009</th>\n",
       "      <th>2010</th>\n",
       "      <th>2011</th>\n",
       "      <th>2012</th>\n",
       "      <th>2013</th>\n",
       "      <th>2014</th>\n",
       "      <th>2015</th>\n",
       "    </tr>\n",
       "    <tr>\n",
       "      <th>Country</th>\n",
       "      <th></th>\n",
       "      <th></th>\n",
       "      <th></th>\n",
       "      <th></th>\n",
       "      <th></th>\n",
       "      <th></th>\n",
       "      <th></th>\n",
       "      <th></th>\n",
       "      <th></th>\n",
       "      <th></th>\n",
       "      <th></th>\n",
       "      <th></th>\n",
       "      <th></th>\n",
       "      <th></th>\n",
       "      <th></th>\n",
       "    </tr>\n",
       "  </thead>\n",
       "  <tbody>\n",
       "    <tr>\n",
       "      <th>China</th>\n",
       "      <td>1</td>\n",
       "      <td>127050</td>\n",
       "      <td>126767</td>\n",
       "      <td>597237</td>\n",
       "      <td>411683</td>\n",
       "      <td>4.70</td>\n",
       "      <td>138</td>\n",
       "      <td>...</td>\n",
       "      <td>5.459247e+12</td>\n",
       "      <td>6.039659e+12</td>\n",
       "      <td>6.612490e+12</td>\n",
       "      <td>7.124978e+12</td>\n",
       "      <td>7.672448e+12</td>\n",
       "      <td>8.230121e+12</td>\n",
       "      <td>8.797999e+12</td>\n",
       "    </tr>\n",
       "    <tr>\n",
       "      <th>Japan</th>\n",
       "      <td>3</td>\n",
       "      <td>30504</td>\n",
       "      <td>30287</td>\n",
       "      <td>223024</td>\n",
       "      <td>61554</td>\n",
       "      <td>7.31</td>\n",
       "      <td>134</td>\n",
       "      <td>...</td>\n",
       "      <td>5.251308e+12</td>\n",
       "      <td>5.498718e+12</td>\n",
       "      <td>5.473738e+12</td>\n",
       "      <td>5.569102e+12</td>\n",
       "      <td>5.644659e+12</td>\n",
       "      <td>5.642884e+12</td>\n",
       "      <td>5.669563e+12</td>\n",
       "    </tr>\n",
       "    <tr>\n",
       "      <th>Russian Federation</th>\n",
       "      <td>5</td>\n",
       "      <td>18534</td>\n",
       "      <td>18301</td>\n",
       "      <td>34266</td>\n",
       "      <td>12422</td>\n",
       "      <td>1.85</td>\n",
       "      <td>57</td>\n",
       "      <td>...</td>\n",
       "      <td>1.459199e+12</td>\n",
       "      <td>1.524917e+12</td>\n",
       "      <td>1.589943e+12</td>\n",
       "      <td>1.645876e+12</td>\n",
       "      <td>1.666934e+12</td>\n",
       "      <td>1.678709e+12</td>\n",
       "      <td>1.616149e+12</td>\n",
       "    </tr>\n",
       "    <tr>\n",
       "      <th>Canada</th>\n",
       "      <td>6</td>\n",
       "      <td>17899</td>\n",
       "      <td>17620</td>\n",
       "      <td>215003</td>\n",
       "      <td>40930</td>\n",
       "      <td>12.01</td>\n",
       "      <td>149</td>\n",
       "      <td>...</td>\n",
       "      <td>1.565145e+12</td>\n",
       "      <td>1.613406e+12</td>\n",
       "      <td>1.664087e+12</td>\n",
       "      <td>1.693133e+12</td>\n",
       "      <td>1.730688e+12</td>\n",
       "      <td>1.773486e+12</td>\n",
       "      <td>1.792609e+12</td>\n",
       "    </tr>\n",
       "    <tr>\n",
       "      <th>Germany</th>\n",
       "      <td>7</td>\n",
       "      <td>17027</td>\n",
       "      <td>16831</td>\n",
       "      <td>140566</td>\n",
       "      <td>27426</td>\n",
       "      <td>8.26</td>\n",
       "      <td>126</td>\n",
       "      <td>...</td>\n",
       "      <td>3.283340e+12</td>\n",
       "      <td>3.417298e+12</td>\n",
       "      <td>3.542371e+12</td>\n",
       "      <td>3.556724e+12</td>\n",
       "      <td>3.567317e+12</td>\n",
       "      <td>3.624386e+12</td>\n",
       "      <td>3.685556e+12</td>\n",
       "    </tr>\n",
       "  </tbody>\n",
       "</table>\n",
       "<p>5 rows × 20 columns</p>\n",
       "</div>"
      ],
      "text/plain": [
       "                    Rank  Documents  Citable documents  Citations  \\\n",
       "Country                                                             \n",
       "China                  1     127050             126767     597237   \n",
       "Japan                  3      30504              30287     223024   \n",
       "Russian Federation     5      18534              18301      34266   \n",
       "Canada                 6      17899              17620     215003   \n",
       "Germany                7      17027              16831     140566   \n",
       "\n",
       "                    Self-citations  Citations per document  H index  ...  \\\n",
       "Country                                                              ...   \n",
       "China                       411683                    4.70      138  ...   \n",
       "Japan                        61554                    7.31      134  ...   \n",
       "Russian Federation           12422                    1.85       57  ...   \n",
       "Canada                       40930                   12.01      149  ...   \n",
       "Germany                      27426                    8.26      126  ...   \n",
       "\n",
       "                            2009          2010          2011          2012  \\\n",
       "Country                                                                      \n",
       "China               5.459247e+12  6.039659e+12  6.612490e+12  7.124978e+12   \n",
       "Japan               5.251308e+12  5.498718e+12  5.473738e+12  5.569102e+12   \n",
       "Russian Federation  1.459199e+12  1.524917e+12  1.589943e+12  1.645876e+12   \n",
       "Canada              1.565145e+12  1.613406e+12  1.664087e+12  1.693133e+12   \n",
       "Germany             3.283340e+12  3.417298e+12  3.542371e+12  3.556724e+12   \n",
       "\n",
       "                            2013          2014          2015  \n",
       "Country                                                       \n",
       "China               7.672448e+12  8.230121e+12  8.797999e+12  \n",
       "Japan               5.644659e+12  5.642884e+12  5.669563e+12  \n",
       "Russian Federation  1.666934e+12  1.678709e+12  1.616149e+12  \n",
       "Canada              1.730688e+12  1.773486e+12  1.792609e+12  \n",
       "Germany             3.567317e+12  3.624386e+12  3.685556e+12  \n",
       "\n",
       "[5 rows x 20 columns]"
      ]
     },
     "execution_count": 13,
     "metadata": {},
     "output_type": "execute_result"
    }
   ],
   "source": [
    "scimagojr_data = scimagojr_data[scimagojr_data['Rank'] <= 15]\n",
    "\n",
    "merged_data = pd.merge(scimagojr_data, df, how='inner', left_on='Country', right_on='Country')\n",
    "final_data = pd.merge(merged_data, GDP, how='inner', left_on='Country', right_on='Country Name')\n",
    "\n",
    "columns_needed = ['Country', 'Rank', 'Documents', 'Citable documents', 'Citations', 'Self-citations',\n",
    "                  'Citations per document', 'H index', 'Energy Supply', 'Energy Supply per Capita', '% Renewable'] + [str(year) for year in range(2006, 2016)]\n",
    "Result = final_data[columns_needed]\n",
    "\n",
    "Result = Result[Result['Rank'] <= 15]\n",
    "Result.set_index('Country', inplace=True)\n",
    "\n",
    "Result.head(5)"
   ]
  },
  {
   "cell_type": "code",
   "execution_count": 14,
   "id": "9fb1b2e0",
   "metadata": {},
   "outputs": [
    {
     "data": {
      "text/plain": [
       "(13, 20)"
      ]
     },
     "execution_count": 14,
     "metadata": {},
     "output_type": "execute_result"
    }
   ],
   "source": [
    "Result.shape"
   ]
  },
  {
   "cell_type": "code",
   "execution_count": 39,
   "id": "cff44532",
   "metadata": {},
   "outputs": [],
   "source": [
    "#Task 8"
   ]
  },
  {
   "cell_type": "code",
   "execution_count": 15,
   "id": "57d3d36b",
   "metadata": {},
   "outputs": [
    {
     "data": {
      "text/plain": [
       "Country\n",
       "China                 6.348609e+12\n",
       "Japan                 5.542208e+12\n",
       "Germany               3.493025e+12\n",
       "France                2.681725e+12\n",
       "Brazil                2.189794e+12\n",
       "Italy                 2.120175e+12\n",
       "India                 1.769297e+12\n",
       "Canada                1.660647e+12\n",
       "Russian Federation    1.565459e+12\n",
       "Spain                 1.418078e+12\n",
       "Australia             1.164043e+12\n",
       "South Korea           1.106715e+12\n",
       "Iran                  4.441558e+11\n",
       "dtype: float64"
      ]
     },
     "execution_count": 15,
     "metadata": {},
     "output_type": "execute_result"
    }
   ],
   "source": [
    "def task_eight():\n",
    "    gdp_columns = [str(year) for year in range(2006, 2016)]\n",
    "    \n",
    "    avg_gdp = Result[gdp_columns].mean(axis=1)\n",
    "    \n",
    "    return avg_gdp.sort_values(ascending=False)\n",
    "\n",
    "task_eight()"
   ]
  },
  {
   "cell_type": "code",
   "execution_count": null,
   "id": "f7388b9d",
   "metadata": {},
   "outputs": [],
   "source": [
    "#Task 9"
   ]
  },
  {
   "cell_type": "code",
   "execution_count": 16,
   "id": "298a8aa7",
   "metadata": {},
   "outputs": [
    {
     "data": {
      "text/plain": [
       "('Brazil', 474343725980.5698)"
      ]
     },
     "execution_count": 16,
     "metadata": {},
     "output_type": "execute_result"
    }
   ],
   "source": [
    "def task_nine():\n",
    "    avg_gdp = task_eight()\n",
    "    \n",
    "    fifth_country = avg_gdp.index[4]\n",
    "    \n",
    "    gdp_change = Result.loc[fifth_country, '2015'] - Result.loc[fifth_country, '2006']\n",
    "    \n",
    "    return (fifth_country, gdp_change)\n",
    "\n",
    "task_nine()"
   ]
  },
  {
   "cell_type": "code",
   "execution_count": null,
   "id": "d1c9b632",
   "metadata": {},
   "outputs": [],
   "source": [
    "#Task 10"
   ]
  },
  {
   "cell_type": "code",
   "execution_count": 17,
   "id": "01693ffa",
   "metadata": {},
   "outputs": [
    {
     "data": {
      "text/plain": [
       "('Brazil', 69.648)"
      ]
     },
     "execution_count": 17,
     "metadata": {},
     "output_type": "execute_result"
    }
   ],
   "source": [
    "def task_ten():\n",
    "    max_renewable = Result['% Renewable'].idxmax()\n",
    "    max_value = Result['% Renewable'].max()\n",
    "    \n",
    "    return (max_renewable, max_value)\n",
    "\n",
    "task_ten()"
   ]
  },
  {
   "cell_type": "code",
   "execution_count": null,
   "id": "4f4cfd11",
   "metadata": {},
   "outputs": [],
   "source": [
    "#Task 11"
   ]
  },
  {
   "cell_type": "code",
   "execution_count": 18,
   "id": "a51295d5",
   "metadata": {},
   "outputs": [
    {
     "data": {
      "text/plain": [
       "('Germany', 80369696.96969697)"
      ]
     },
     "execution_count": 18,
     "metadata": {},
     "output_type": "execute_result"
    }
   ],
   "source": [
    "def task_eleven():\n",
    "    Result['Estimated Population'] = Result['Energy Supply'] / Result['Energy Supply per Capita']\n",
    "    \n",
    "    sixth_population_country = Result['Estimated Population'].sort_values(ascending=False).index[5]\n",
    "    sixth_population_value = Result['Estimated Population'].sort_values(ascending=False).iloc[5]\n",
    "    \n",
    "    return (sixth_population_country, sixth_population_value)\n",
    "\n",
    "task_eleven()"
   ]
  },
  {
   "cell_type": "code",
   "execution_count": null,
   "id": "ea1985e6",
   "metadata": {},
   "outputs": [],
   "source": [
    "#Task 12"
   ]
  },
  {
   "cell_type": "code",
   "execution_count": 19,
   "id": "90bbfde6",
   "metadata": {},
   "outputs": [
    {
     "data": {
      "text/plain": [
       "0.7485600772321214"
      ]
     },
     "execution_count": 19,
     "metadata": {},
     "output_type": "execute_result"
    }
   ],
   "source": [
    "def task_twelve():\n",
    "    Result['Citations per Capita'] = Result['Citations'] / Result['Estimated Population']\n",
    "    \n",
    "    clean_data = Result[['Citations per Capita', 'Energy Supply per Capita']].dropna()\n",
    "    \n",
    "    correlation = clean_data['Citations per Capita'].corr(clean_data['Energy Supply per Capita'])\n",
    "    \n",
    "    return correlation\n",
    "\n",
    "task_twelve()"
   ]
  },
  {
   "cell_type": "code",
   "execution_count": 49,
   "id": "c29abc42",
   "metadata": {},
   "outputs": [],
   "source": [
    "#Task 13"
   ]
  },
  {
   "cell_type": "code",
   "execution_count": 20,
   "id": "633a3b40",
   "metadata": {},
   "outputs": [
    {
     "data": {
      "text/plain": [
       "Country\n",
       "China                 1\n",
       "Japan                 0\n",
       "Russian Federation    1\n",
       "Canada                1\n",
       "Germany               1\n",
       "India                 0\n",
       "France                0\n",
       "South Korea           0\n",
       "Italy                 1\n",
       "Spain                 1\n",
       "Iran                  0\n",
       "Australia             0\n",
       "Brazil                1\n",
       "Name: Renewable Above Median, dtype: int32"
      ]
     },
     "execution_count": 20,
     "metadata": {},
     "output_type": "execute_result"
    }
   ],
   "source": [
    "def task_thirteen():\n",
    "    renewable_median = Result['% Renewable'].median()\n",
    "    \n",
    "    Result['Renewable Above Median'] = (Result['% Renewable'] >= renewable_median).astype(int)\n",
    "    \n",
    "    return Result[['Renewable Above Median', 'Rank']].sort_values(by='Rank')['Renewable Above Median']\n",
    "\n",
    "task_thirteen()"
   ]
  },
  {
   "cell_type": "code",
   "execution_count": 51,
   "id": "69ed33cc",
   "metadata": {},
   "outputs": [],
   "source": [
    "#Task 14"
   ]
  },
  {
   "cell_type": "code",
   "execution_count": 21,
   "id": "0274313a",
   "metadata": {},
   "outputs": [
    {
     "data": {
      "text/html": [
       "<div>\n",
       "<style scoped>\n",
       "    .dataframe tbody tr th:only-of-type {\n",
       "        vertical-align: middle;\n",
       "    }\n",
       "\n",
       "    .dataframe tbody tr th {\n",
       "        vertical-align: top;\n",
       "    }\n",
       "\n",
       "    .dataframe thead th {\n",
       "        text-align: right;\n",
       "    }\n",
       "</style>\n",
       "<table border=\"1\" class=\"dataframe\">\n",
       "  <thead>\n",
       "    <tr style=\"text-align: right;\">\n",
       "      <th></th>\n",
       "      <th>size</th>\n",
       "      <th>sum</th>\n",
       "      <th>mean</th>\n",
       "      <th>std</th>\n",
       "    </tr>\n",
       "    <tr>\n",
       "      <th>Continent</th>\n",
       "      <th></th>\n",
       "      <th></th>\n",
       "      <th></th>\n",
       "      <th></th>\n",
       "    </tr>\n",
       "  </thead>\n",
       "  <tbody>\n",
       "    <tr>\n",
       "      <th>Asia</th>\n",
       "      <td>5</td>\n",
       "      <td>2.898666e+09</td>\n",
       "      <td>5.797333e+08</td>\n",
       "      <td>6.790979e+08</td>\n",
       "    </tr>\n",
       "    <tr>\n",
       "      <th>Australia</th>\n",
       "      <td>1</td>\n",
       "      <td>2.331602e+07</td>\n",
       "      <td>2.331602e+07</td>\n",
       "      <td>NaN</td>\n",
       "    </tr>\n",
       "    <tr>\n",
       "      <th>Europe</th>\n",
       "      <td>5</td>\n",
       "      <td>3.940587e+08</td>\n",
       "      <td>7.881174e+07</td>\n",
       "      <td>3.813228e+07</td>\n",
       "    </tr>\n",
       "    <tr>\n",
       "      <th>North America</th>\n",
       "      <td>1</td>\n",
       "      <td>3.523986e+07</td>\n",
       "      <td>3.523986e+07</td>\n",
       "      <td>NaN</td>\n",
       "    </tr>\n",
       "    <tr>\n",
       "      <th>South America</th>\n",
       "      <td>1</td>\n",
       "      <td>2.059153e+08</td>\n",
       "      <td>2.059153e+08</td>\n",
       "      <td>NaN</td>\n",
       "    </tr>\n",
       "  </tbody>\n",
       "</table>\n",
       "</div>"
      ],
      "text/plain": [
       "               size           sum          mean           std\n",
       "Continent                                                    \n",
       "Asia              5  2.898666e+09  5.797333e+08  6.790979e+08\n",
       "Australia         1  2.331602e+07  2.331602e+07           NaN\n",
       "Europe            5  3.940587e+08  7.881174e+07  3.813228e+07\n",
       "North America     1  3.523986e+07  3.523986e+07           NaN\n",
       "South America     1  2.059153e+08  2.059153e+08           NaN"
      ]
     },
     "execution_count": 21,
     "metadata": {},
     "output_type": "execute_result"
    }
   ],
   "source": [
    "def task_fourteen():\n",
    "    ContinentDict = {\n",
    "        'China':'Asia', 'United States':'North America', 'Japan':'Asia',\n",
    "        'United Kingdom':'Europe', 'Russian Federation':'Europe',\n",
    "        'Canada':'North America', 'Germany':'Europe', 'India':'Asia',\n",
    "        'France':'Europe', 'South Korea':'Asia', 'Italy':'Europe',\n",
    "        'Spain':'Europe', 'Iran':'Asia', 'Australia':'Australia', 'Brazil':'South America'\n",
    "    }\n",
    "\n",
    "    Result['Continent'] = Result.index.to_series().map(ContinentDict)\n",
    "    \n",
    "    grouped = Result.groupby('Continent')['Estimated Population'].agg(['size', 'sum', 'mean', 'std'])\n",
    "    \n",
    "    return grouped\n",
    "\n",
    "task_fourteen()"
   ]
  },
  {
   "cell_type": "code",
   "execution_count": 53,
   "id": "f7d79c8c",
   "metadata": {},
   "outputs": [],
   "source": [
    "#Task 15"
   ]
  },
  {
   "cell_type": "code",
   "execution_count": null,
   "id": "d96c1f92",
   "metadata": {},
   "outputs": [
    {
     "data": {
      "image/png": "[encoded data removed]",
      "text/plain": [
       "<Figure size 1000x600 with 1 Axes>"
      ]
     },
     "metadata": {},
     "output_type": "display_data"
    }
   ],
   "source": [
    "import matplotlib.pyplot as plt\n",
    "\n",
    "def task_fifteen():\n",
    "    ContinentDict = {\n",
    "        'Asia': 'red', 'Europe': 'green', 'North America': 'blue', \n",
    "        'South America': 'orange', 'Australia': 'yellow'\n",
    "    }\n",
    "\n",
    "    Result['Color'] = Result['Continent'].map(ContinentDict)\n",
    "\n",
    "    plt.figure(figsize=(10, 6))\n",
    "\n",
    "    plt.scatter(\n",
    "        x=Result['Rank'],  \n",
    "        y=Result['% Renewable'],  \n",
    "        s=Result['2015'] / 10**10,  \n",
    "        c=Result['Color'],  \n",
    "        alpha=0.6, edgecolors=\"w\", linewidth=2\n",
    "    )\n",
    "\n",
    "    for i in range(len(Result)):\n",
    "        plt.text(Result['Rank'].iloc[i], Result['% Renewable'].iloc[i], Result.index[i], fontsize=9, ha='center')\n",
    "\n",
    "    plt.title('Bubble chart')\n",
    "    plt.xlabel('Rank')\n",
    "    plt.ylabel('% Renewable')\n",
    "\n",
    "    plt.show()\n",
    "\n",
    "task_fifteen()"
   ]
  },
  {
   "cell_type": "code",
   "execution_count": null,
   "id": "9ac41ea0",
   "metadata": {},
   "outputs": [],
   "source": []
  }
 ],
 "metadata": {
  "kernelspec": {
   "display_name": "Python 3 (ipykernel)",
   "language": "python",
   "name": "python3"
  },
  "language_info": {
   "codemirror_mode": {
    "name": "ipython",
    "version": 3
   },
   "file_extension": ".py",
   "mimetype": "text/x-python",
   "name": "python",
   "nbconvert_exporter": "python",
   "pygments_lexer": "ipython3",
   "version": "3.11.5"
  }
 },
 "nbformat": 4,
 "nbformat_minor": 5
}
