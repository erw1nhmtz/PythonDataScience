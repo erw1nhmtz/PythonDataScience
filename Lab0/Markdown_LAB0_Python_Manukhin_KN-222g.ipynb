{
 "cells": [
  {
   "cell_type": "markdown",
   "id": "240d24d8",
   "metadata": {},
   "source": [
    "# Йорданія\n",
    "\n",
    "![Йорданія](http://wrs.com.ua/wp-content/uploads/2017/04/Iordaniya-5.jpg)\n",
    "\n",
    "\n",
    "---\n",
    "<div style=\"border: 2px solid black; padding: 10px;\">\n",
    "    <h2 style=\"color: green;\">Площа та Населення</h2>\n",
    "    <p><strong>Площа:</strong> 89 342 км^2</p>\n",
    "    <p><strong>Населення:</strong> ~10,3 мільйона осіб (2023)</p>\n",
    "</div>\n",
    "\n",
    "\n",
    "\n",
    "## Державний устрій\n",
    "<div style=\"border: 2px solid blue; padding: 10px;\">\n",
    "    <p>Йорданія є <strong>конституційною монархією</strong>. Король є головою держави, а парламент і уряд - органи законодавчої та виконавчої влади.</p>\n",
    "</div>\n",
    "\n",
    "\n",
    "\n",
    "### Видатні персоналії\n",
    "* **Король Абдалла II** - нинішній король Йорданії.\n",
    "* **Королева Ранія** - відома своїми благодійними ініціативами.\n",
    "\n",
    "\n",
    "#### Пам'ятки культури та природи\n",
    "1. **Петра** (історичне місто):\n",
    "    - Входить до <strong>Семи нових чудес світу</strong>.\n",
    "    - Відоме своїми унікальними архітектурними спорудами, висіченими у скелях.\n",
    "\n",
    "2. **Мертве море**:\n",
    "    - Є однією з найсолоніших водойм у світі.\n",
    "    - **Популярний курорт** через лікувальні властивості води та грязей.\n",
    "\n",
    "\n",
    "## Цікаві факти\n",
    "\n",
    "| Факт                | Опис                                          |\n",
    "|---------------------|-----------------------------------------------|\n",
    "| **Офіційна мова**   | Арабська                                      |\n",
    "| **Столиця**         | Амман                                         |\n",
    "| **Валюта**          | Йорданський динар (JOD)                       |\n",
    "| **Клімат**          | Переважно сухий, пустельний                   |\n",
    "| **Важливий обєкт** | Гора Небо, з якої, за біблійними переказами, Мойсей побачив Землю Обітовану |\n",
    "\n",
    "\n",
    "\n",
    "### Географічне положення\n",
    "- **Сусідні країни**:\n",
    "  - Ізраїль\n",
    "  - Сирія\n",
    "  - Ірак\n",
    "  - Саудівська Аравія\n",
    "\n",
    "\n",
    "\n",
    "### Гіперпосилання:\n",
    "Для отримання додаткової інформації про Йорданію відвідайте [офіційний сайт туризму по Йорданії](https://www.visitjordan.com).\n",
    "\n",
    "\n",
    "### Вбудоване зображення:\n",
    "![](petra.jpg)"
   ]
  },
  {
   "cell_type": "code",
   "execution_count": 21,
   "id": "168c3bc7",
   "metadata": {},
   "outputs": [
    {
     "data": {
      "image/svg+xml": [
       "<svg viewBox=\"0 0 50 30\" width=\"300\" xmlns=\"http://www.w3.org/2000/svg\">\n",
       "  <rect fill=\"black\" height=\"30\" width=\"50\"/>\n",
       "  <rect fill=\"white\" height=\"20\" width=\"50\" y=\"10\"/>\n",
       "  <rect fill=\"green\" height=\"10\" width=\"50\" y=\"20\"/>\n",
       "  <polygon fill=\"red\" points=\"30,15 0,0 0,30\"/>\n",
       "  <polygon fill=\"white\" points=\"3,15 5,14 6,12 7,14 9,15 7,16 6,18 5,16\"/>\n",
       "\n",
       "</svg>"
      ],
      "text/plain": [
       "<IPython.core.display.SVG object>"
      ]
     },
     "metadata": {},
     "output_type": "display_data"
    }
   ],
   "source": [
    "from IPython.display import SVG, display\n",
    "svg_code = '''<svg xmlns=\"http://www.w3.org/2000/svg\" viewBox=\"0 0 50 30\" width=\"300\">\n",
    "  <rect width=\"50\" height=\"30\" fill=\"black\"/>\n",
    "  <rect width=\"50\" height=\"20\" y=\"10\" fill=\"white\"/>\n",
    "  <rect width=\"50\" height=\"10\" y=\"20\" fill=\"green\"/>\n",
    "  <polygon points=\"30,15 0,0 0,30\" fill=\"red\"/>\n",
    "  <polygon points=\"3,15 5,14 6,12 7,14 9,15 7,16 6,18 5,16\" fill=\"white\"/>\n",
    "\n",
    "</svg>'''\n",
    "\n",
    "display(SVG(data=svg_code))"
   ]
  },
  {
   "cell_type": "code",
   "execution_count": null,
   "id": "f61353ed",
   "metadata": {},
   "outputs": [],
   "source": []
  }
 ],
 "metadata": {
  "kernelspec": {
   "display_name": "Python 3 (ipykernel)",
   "language": "python",
   "name": "python3"
  },
  "language_info": {
   "codemirror_mode": {
    "name": "ipython",
    "version": 3
   },
   "file_extension": ".py",
   "mimetype": "text/x-python",
   "name": "python",
   "nbconvert_exporter": "python",
   "pygments_lexer": "ipython3",
   "version": "3.7.1"
  }
 },
 "nbformat": 4,
 "nbformat_minor": 5
}
